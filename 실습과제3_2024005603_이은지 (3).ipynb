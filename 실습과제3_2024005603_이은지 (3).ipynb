{
  "metadata": {
    "kernelspec": {
      "name": "python",
      "display_name": "Python (Pyodide)",
      "language": "python"
    },
    "language_info": {
      "codemirror_mode": {
        "name": "python",
        "version": 3
      },
      "file_extension": ".py",
      "mimetype": "text/x-python",
      "name": "python",
      "nbconvert_exporter": "python",
      "pygments_lexer": "ipython3",
      "version": "3.8"
    }
  },
  "nbformat_minor": 4,
  "nbformat": 4,
  "cells": [
    {
      "cell_type": "markdown",
      "source": "### 계산기 만들기\n-try, except, else, finally를 이용하여 계산기 코드를 만들어본다.",
      "metadata": {}
    },
    {
      "cell_type": "code",
      "source": "try:\n  a, b = map(int, input(\"숫자 두 개 입력 : \").split())\n  c = a/b\nexcept:\n  print(\"입력한 값 또는 입력 값의 자료형을 확인해주세요.\")\nelse:\n  print(f'{a} / {b} = {c}')\nfinally:\n  print(\"calciulation completed\")",
      "metadata": {
        "trusted": true
      },
      "outputs": [],
      "execution_count": null
    },
    {
      "cell_type": "markdown",
      "source": "### 코드 설명\n-try에는 오류가 발생할 수 있는 값 입력, 계산 코드를 작성했다.\n-except에는 오류가 발생하였을 때 사용자에게 알릴 수 있는 코드를 작성했다.\n-else에는 오류가 발생하지 않고, 제대로 실행이 되었을 때 계산 수행 결과를 알리는 코드를 작성했다.\n-finally에는 모든 실행이 끝난 뒤 계산이 마무리되었다는 문구를 출력하는 코드를 작성했다.",
      "metadata": {}
    }
  ]
}